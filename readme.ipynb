{
 "cells": [
  {
   "cell_type": "code",
   "execution_count": 4,
   "metadata": {},
   "outputs": [
    {
     "name": "stdout",
     "output_type": "stream",
     "text": [
      "README.md for the common folder has been created.\n"
     ]
    }
   ],
   "source": [
    "import os\n",
    "\n",
    "# Get the current working directory (common folder)\n",
    "common_folder_path = os.getcwd()\n",
    "\n",
    "# Create or open a new README file for the common folder\n",
    "with open(os.path.join(common_folder_path, 'README.md'), 'w') as common_readme:\n",
    "    # Write general information about the common folder\n",
    "    common_readme.write('# Projects Overview\\n\\n')\n",
    "    common_readme.write('This folder contains multiple projects. Below is an overview of each project:\\n\\n')\n",
    "\n",
    "    # Iterate over each project folder in the common folder\n",
    "    for project_folder in os.listdir(common_folder_path):\n",
    "        project_folder_path = os.path.join(common_folder_path, project_folder)\n",
    "        \n",
    "        # Skip if it's not a folder\n",
    "        if not os.path.isdir(project_folder_path):\n",
    "            continue\n",
    "        \n",
    "        # Check if the project folder contains a README.md file\n",
    "        readme_path = os.path.join(project_folder_path, 'README.md')\n",
    "        if os.path.exists(readme_path):\n",
    "            with open(readme_path, 'r') as project_readme:\n",
    "                common_readme.write(f'## {project_folder}\\n')\n",
    "                common_readme.write(project_readme.read())\n",
    "                common_readme.write('\\n\\n')\n",
    "        else:\n",
    "            common_readme.write(f'## {project_folder}\\n')\n",
    "            common_readme.write('No README.md file found for this project.\\n\\n')\n",
    "\n",
    "print(\"README.md for the common folder has been created.\")\n"
   ]
  }
 ],
 "metadata": {
  "kernelspec": {
   "display_name": "fyp_env",
   "language": "python",
   "name": "python3"
  },
  "language_info": {
   "codemirror_mode": {
    "name": "ipython",
    "version": 3
   },
   "file_extension": ".py",
   "mimetype": "text/x-python",
   "name": "python",
   "nbconvert_exporter": "python",
   "pygments_lexer": "ipython3",
   "version": "3.9.20"
  }
 },
 "nbformat": 4,
 "nbformat_minor": 2
}
